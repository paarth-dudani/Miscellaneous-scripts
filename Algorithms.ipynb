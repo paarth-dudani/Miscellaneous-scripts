{
 "cells": [
  {
   "cell_type": "code",
   "execution_count": 177,
   "metadata": {},
   "outputs": [
    {
     "name": "stdout",
     "output_type": "stream",
     "text": [
      "[[  26.76798604   -9.69915021 -217.94100168 ...   27.26808705\n",
      "  -114.8131678    47.28246295]\n",
      " [  -9.69914938    9.4509828   102.00965148 ...  -13.78154917\n",
      "    56.08249495  -19.14588425]\n",
      " [-217.94107109  102.00969518 2704.41574806 ... -303.65259473\n",
      "  1455.53427438 -632.32174143]\n",
      " ...\n",
      " [  27.2680897   -13.78155159 -303.65253117 ...   37.71980724\n",
      "  -161.20185307   67.49650163]\n",
      " [-114.81320819   56.08251998 1455.53431065 ... -161.20189146\n",
      "   790.236348   -339.96060128]\n",
      " [  47.2824867   -19.14589804 -632.3218349  ...   67.49652692\n",
      "  -339.96064329  155.5039799 ]]\n",
      "67.44877004623413\n"
     ]
    }
   ],
   "source": [
    "import time\n",
    "\n",
    "# get the start time\n",
    "st = time.time()\n",
    "\n",
    "import numpy as np\n",
    "import random \n",
    "\n",
    "mat = np.random.rand(10000, 10000)\n",
    "\n",
    "Mat_mul = mat.T@mat\n",
    "\n",
    "inv = np.linalg.inv(Mat_mul)\n",
    "\n",
    "print(inv)\n",
    "\n",
    "# get the end time\n",
    "et = time.time()\n",
    "\n",
    "print(et-st)"
   ]
  },
  {
   "cell_type": "code",
   "execution_count": 178,
   "metadata": {},
   "outputs": [
    {
     "name": "stdout",
     "output_type": "stream",
     "text": [
      "\n",
      "Q:\n",
      " [[-2.74016358e-03  1.66290462e-02  5.37844135e-03 ...  4.33287355e-03\n",
      "  -3.23919363e-03  4.54577080e-05]\n",
      " [-5.93755747e-03 -5.24005017e-04 -1.41550963e-02 ... -7.82101910e-04\n",
      "   9.60251688e-03 -8.80509594e-03]\n",
      " [-1.59146902e-02 -1.71872308e-02 -8.61122314e-03 ... -1.85473892e-03\n",
      "   2.66156336e-03  1.01028973e-02]\n",
      " ...\n",
      " [-1.52989158e-02  8.05038355e-03  3.56786278e-03 ... -4.50859977e-03\n",
      "  -1.62424958e-02 -1.72705116e-02]\n",
      " [-8.31188963e-03  6.84513451e-03 -1.13386742e-02 ... -1.50381879e-03\n",
      "  -2.12630942e-03  6.18310433e-03]\n",
      " [-1.55798612e-02  4.14613944e-03  7.94165141e-03 ... -9.72090265e-03\n",
      "   8.10672991e-03 -1.82538924e-02]]\n",
      "\n",
      "R:\n",
      " [[-57.66770986 -43.22627399 -43.19088415 ... -43.1995835  -43.23995023\n",
      "  -42.94291239]\n",
      " [  0.          37.98675622  16.40409325 ...  16.62430557  16.91171417\n",
      "   16.71545598]\n",
      " [  0.           0.         -34.79429349 ... -11.15295865 -10.42570289\n",
      "  -10.86948382]\n",
      " ...\n",
      " [  0.           0.           0.         ...   0.47325226   0.13730726\n",
      "    0.09476406]\n",
      " [  0.           0.           0.         ...   0.          -0.14583524\n",
      "   -0.31882285]\n",
      " [  0.           0.           0.         ...   0.           0.\n",
      "    0.08019185]]\n"
     ]
    }
   ],
   "source": [
    "import numpy as np \n",
    "  \n",
    "# Decomposition of the said matrix \n",
    "q, r = np.linalg.qr(mat) \n",
    "print('\\nQ:\\n', q) \n",
    "print('\\nR:\\n', r) "
   ]
  },
  {
   "cell_type": "code",
   "execution_count": 174,
   "metadata": {},
   "outputs": [
    {
     "name": "stdout",
     "output_type": "stream",
     "text": [
      "[[ 24.66377774  -4.35577656   6.44035242 ...  10.70013616  -1.52901582\n",
      "   -9.63845464]\n",
      " [ -4.35577663   8.94695058  -8.00675201 ...  -1.02482847   6.74343293\n",
      "    4.00696527]\n",
      " [  6.44035347  -8.0067522   40.03516745 ... -26.07269185  18.42487735\n",
      "  -21.39454198]\n",
      " ...\n",
      " [ 10.70013519  -1.02482824 -26.07269252 ...  33.90549059 -27.05959094\n",
      "   12.99506499]\n",
      " [ -1.52901507   6.74343277  18.42487764 ... -27.05959074  38.05426824\n",
      "  -13.91327986]\n",
      " [ -9.63845531   4.00696539 -21.3945418  ...  12.9950644  -13.91327956\n",
      "   16.86280111]]\n",
      "9.070774793624878\n"
     ]
    }
   ],
   "source": [
    "\n",
    "# get the start time\n",
    "st = time.time()\n",
    "\n",
    "Mat_mul_QR = r.T@r\n",
    "\n",
    "inv_QR = np.linalg.inv(Mat_mul_QR)\n",
    "\n",
    "print(inv_QR)\n",
    "\n",
    "\n",
    "# get the end time\n",
    "et = time.time()\n",
    "\n",
    "print(et-st)"
   ]
  },
  {
   "cell_type": "code",
   "execution_count": 195,
   "metadata": {},
   "outputs": [
    {
     "name": "stdout",
     "output_type": "stream",
     "text": [
      "{'min_x': -18.521531342404217, 'max_x': 24.925302756863218}\n"
     ]
    }
   ],
   "source": [
    "import pickle\n",
    "\n",
    "\n",
    "with open('/Users/paarthdudani/Downloads/best_generators/d_scaling_fdp2.pkl', 'rb') as f:\n",
    "    data = pickle.load(f)\n",
    "\n",
    "print(data)"
   ]
  },
  {
   "cell_type": "code",
   "execution_count": null,
   "metadata": {},
   "outputs": [],
   "source": [
    "import time\n",
    "\n",
    "# get the start time\n",
    "st = time.time()\n",
    "\n",
    "# main program\n",
    "# find sum to first 1 million numbers\n",
    "sum_x = 0\n",
    "for i in range(1000000):\n",
    "    sum_x += i\n",
    "\n",
    "# wait for 3 seconds\n",
    "time.sleep(3)\n",
    "print('Sum of first 1 million numbers is:', sum_x)\n",
    "\n",
    "# get the end time\n",
    "et = time.time()\n"
   ]
  }
 ],
 "metadata": {
  "kernelspec": {
   "display_name": "base",
   "language": "python",
   "name": "python3"
  },
  "language_info": {
   "codemirror_mode": {
    "name": "ipython",
    "version": 3
   },
   "file_extension": ".py",
   "mimetype": "text/x-python",
   "name": "python",
   "nbconvert_exporter": "python",
   "pygments_lexer": "ipython3",
   "version": "3.9.13"
  }
 },
 "nbformat": 4,
 "nbformat_minor": 2
}
