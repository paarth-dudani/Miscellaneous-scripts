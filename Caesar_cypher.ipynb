{
 "cells": [
  {
   "cell_type": "code",
   "execution_count": 7,
   "metadata": {},
   "outputs": [
    {
     "name": "stdout",
     "output_type": "stream",
     "text": [
      "0\n",
      "1\n",
      "2\n",
      "3\n",
      "4\n",
      "5\n",
      "6\n",
      "7\n"
     ]
    },
    {
     "data": {
      "text/plain": [
       "('DQxJuDkd', 'AnUgRAhA')"
      ]
     },
     "execution_count": 7,
     "metadata": {},
     "output_type": "execute_result"
    }
   ],
   "source": [
    "alphabet = 'abcdefghijklmnopqrstuvwxyz'\n",
    "alphabet_caps = alphabet.upper()\n",
    "\n",
    "# text_to_be_encrypted = input('Enter the text to be encrypted:', )\n",
    "\n",
    "# text_to_be_decrypeted = input('Enter the text to be decrypted:', )\n",
    "\n",
    "def et_tu_bc_encryption(text):\n",
    "    length_text = len(text)\n",
    "    indices_text = [0]*length_text\n",
    "    encrypted_text = ''\n",
    "    for i in range(length_text):\n",
    "        if text[i] in alphabet:\n",
    "            if alphabet.rfind(text[i]) + 3 < len(alphabet):\n",
    "                indices_text[i] = alphabet.rfind(text[i]) + 3\n",
    "                encrypted_text = encrypted_text + alphabet[indices_text[i]]\n",
    "            else: \n",
    "                indices_text[i] =  alphabet.rfind(text[i]) + 3 - len(alphabet)\n",
    "                encrypted_text = encrypted_text + alphabet[indices_text[i]]\n",
    "        elif text[i] in alphabet_caps:\n",
    "            if alphabet_caps.rfind(text[i]) + 3 < len(alphabet_caps):\n",
    "                indices_text[i] = alphabet_caps.rfind(text[i]) + 3\n",
    "                encrypted_text = encrypted_text + alphabet_caps[indices_text[i]]\n",
    "            else: \n",
    "                indices_text[i] =  alphabet_caps.rfind(text[i]) + 3 - len(alphabet_caps)\n",
    "                encrypted_text = encrypted_text + alphabet_caps[indices_text[i]]\n",
    "    \n",
    "    return encrypted_text\n",
    "    \n",
    "def et_tu_bc_decryption(text_to_decrypt):\n",
    "    length_text_to_decrypt = len(text_to_decrypt)\n",
    "    indices_text_to_decrypt = [0]*length_text_to_decrypt\n",
    "    decrypted_text = ''\n",
    "    for i in range(length_text_to_decrypt): \n",
    "        print(i)\n",
    "        if text_to_decrypt[i] in alphabet:\n",
    "            if alphabet.rfind(text_to_decrypt[i]) - 3 >= 0:\n",
    "                indices_text_to_decrypt[i] =  alphabet.rfind(text_to_decrypt[i]) - 3\n",
    "                decrypted_text = decrypted_text + alphabet[indices_text_to_decrypt[i]]\n",
    "            else: \n",
    "                indices_text_to_decrypt[i] =  alphabet.rfind(text_to_decrypt[i]) - 3 + len(alphabet)\n",
    "                decrypted_text = decrypted_text + alphabet[indices_text_to_decrypt[i]]\n",
    "        elif text_to_decrypt[i] in alphabet_caps:\n",
    "            if alphabet_caps.rfind(text_to_decrypt[i]) - 3 >= 0:\n",
    "                indices_text_to_decrypt[i] =  alphabet_caps.rfind(text_to_decrypt[i]) - 3\n",
    "                decrypted_text = decrypted_text + alphabet_caps[indices_text_to_decrypt[i]]\n",
    "            else: \n",
    "                indices_text_to_decrypt[i] =  alphabet_caps.rfind(text_to_decrypt[i]) - 3 + len(alphabet_caps)\n",
    "                decrypted_text = decrypted_text + alphabet_caps[indices_text_to_decrypt[i]]\n",
    "    return decrypted_text\n",
    "\n",
    "def ceasar_encryption(text_to_be_encrypted, text_to_be_decrypeted):\n",
    "    encrypted_text = et_tu_bc_encryption(text_to_be_encrypted)\n",
    "    decrypted_text = et_tu_bc_decryption(text_to_be_decrypeted)\n",
    "    return encrypted_text, decrypted_text\n",
    "\n",
    "ceasar_encryption('ANuGrAha', 'DqXjUDkD')"
   ]
  },
  {
   "cell_type": "code",
   "execution_count": 127,
   "metadata": {},
   "outputs": [
    {
     "data": {
      "text/plain": [
       "True"
      ]
     },
     "execution_count": 127,
     "metadata": {},
     "output_type": "execute_result"
    }
   ],
   "source": [
    "text_to_decrypt = 'Efg'\n",
    "\n",
    "'E' in text_to_decrypt"
   ]
  },
  {
   "cell_type": "code",
   "execution_count": 131,
   "metadata": {},
   "outputs": [
    {
     "name": "stdout",
     "output_type": "stream",
     "text": [
      "[0.4 0.2 0.4]\n",
      "[[0.4]\n",
      " [0.2]\n",
      " [0.4]]\n"
     ]
    }
   ],
   "source": [
    "import numpy as np \n",
    "\n",
    "matrix = np.array([[1/2,1/4,1/4],[1/2,0,1/2],[1/4,1/4,1/2]])\n",
    "mat_power = np.matmul(matrix,matrix)\n",
    "# for i in range(100):\n",
    "#     mat_power = np.matmul(mat_power,matrix)\n",
    "#     print()\n",
    "#     print(mat_power)\n",
    "\n",
    "matrix_transp = np.transpose(matrix)\n",
    "stat_pmf_col = np.transpose(np.array([[0.4,0.2,0.4]]))\n",
    "stat_pmf_row = np.array([0.4,0.2,0.4])\n",
    "\n",
    "print(np.matmul(stat_pmf_row,matrix))\n",
    "print(np.matmul(matrix_transp,stat_pmf_col))\n"
   ]
  }
 ],
 "metadata": {
  "kernelspec": {
   "display_name": "base",
   "language": "python",
   "name": "python3"
  },
  "language_info": {
   "codemirror_mode": {
    "name": "ipython",
    "version": 3
   },
   "file_extension": ".py",
   "mimetype": "text/x-python",
   "name": "python",
   "nbconvert_exporter": "python",
   "pygments_lexer": "ipython3",
   "version": "3.9.13"
  }
 },
 "nbformat": 4,
 "nbformat_minor": 2
}
