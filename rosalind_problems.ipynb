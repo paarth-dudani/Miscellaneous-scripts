{
 "cells": [
  {
   "cell_type": "code",
   "execution_count": 400,
   "metadata": {},
   "outputs": [
    {
     "name": "stdout",
     "output_type": "stream",
     "text": [
      ">Rosalind_1 ATCCAGCT >Rosalind_2 GGGCAACT >Rosalind_3 ATGGATCT >Rosalind_4 AAGCAACC >Rosalind_5 TTGGAACT >Rosalind_6 ATGCCATT >Rosalind_7 ATGGCACT\n"
     ]
    }
   ],
   "source": [
    "FASTA_string = input()\n",
    "\n",
    "print(FASTA_string)"
   ]
  },
  {
   "cell_type": "code",
   "execution_count": 401,
   "metadata": {},
   "outputs": [
    {
     "name": "stdout",
     "output_type": "stream",
     "text": [
      "1ATCCAGCT>2GGGCAACT>3ATGGATCT>4AAGCAACC>5TTGGAACT>6ATGCCATT>7ATGGCACT>\n",
      "['ATCCAGCT', 'GGGCAACT', 'ATGGATCT', 'AAGCAACC', 'TTGGAACT', 'ATGCCATT', 'ATGGCACT', 0, 0, 0]\n"
     ]
    }
   ],
   "source": [
    "FASTA_string\n",
    "import numpy as np\n",
    "\n",
    "## Data processing \n",
    "\n",
    "FASTA_string = FASTA_string.replace(\"Rosalind_\", \"\")\n",
    "FASTA_string = FASTA_string.replace(\" \", \"\")\n",
    "FASTA_string = FASTA_string[1:len(FASTA_string)]\n",
    "FASTA_string = FASTA_string + \">\"\n",
    "\n",
    "n = 10\n",
    "indices = np.zeros(n,)\n",
    "list_of_strings = [0]*n\n",
    "j = 0\n",
    "i = FASTA_string.index(\">\")\n",
    "while(\">\" in FASTA_string):\n",
    "    list_of_strings[j] = FASTA_string[1:i]\n",
    "    len_string = len(FASTA_string)\n",
    "    FASTA_string = FASTA_string[i+1:len_string]\n",
    "    i = FASTA_string.index(\">\")\n",
    "    j = j+1\n",
    "    if len(FASTA_string) < 11:\n",
    "        list_of_strings[j] = FASTA_string[1:i]\n",
    "        break\n",
    "print(list_of_strings)"
   ]
  },
  {
   "cell_type": "code",
   "execution_count": 503,
   "metadata": {},
   "outputs": [
    {
     "data": {
      "text/plain": [
       "array([[2., 2., 2., 4., 2., 2., 2., 0., 0., 0.],\n",
       "       [3., 2., 1., 3., 1., 2., 2., 0., 0., 0.],\n",
       "       [1., 3., 2., 1., 2., 1., 2., 0., 0., 0.],\n",
       "       [2., 1., 3., 0., 3., 3., 2., 0., 0., 0.]])"
      ]
     },
     "execution_count": 503,
     "metadata": {},
     "output_type": "execute_result"
    }
   ],
   "source": [
    "# Consensus sequence and profile matrix  \n",
    "\n",
    "# First row : # of A, 2nd row: # of C, 3rd row: # of G, 4th row: # of T \n",
    "# ith column : ith sequence \n",
    "\n",
    "Profile_matrix = np.zeros((4,10),)\n",
    "\n",
    "# Dictionary of nucleotides\n",
    "\n",
    "list_of_nucleo = ['A','C','G','T']\n",
    "res = {}\n",
    "list_of_indices = np.array([0,1,2,3])\n",
    "test_keys = list(list_of_nucleo)\n",
    "test_values = list(list_of_indices) \n",
    "\n",
    "for key in test_keys:\n",
    "    for value in test_values:\n",
    "        res[key] = value\n",
    "        test_values.remove(value)\n",
    "        break\n",
    "\n",
    "for j in range(len(list_of_strings[0])):\n",
    "    for i in range(len(list_of_strings)):\n",
    "        if type(list_of_strings[i]) == int:\n",
    "                break\n",
    "        else :\n",
    "            Nuc = list_of_strings[i][j]\n",
    "            index_of_nuc = res.get(Nuc)\n",
    "            Profile_matrix[index_of_nuc,i] = Profile_matrix[index_of_nuc,i] + 1\n",
    "        \n",
    "Profile_matrix\n",
    "        \n",
    "# print(Profile_matrix)\n",
    "# ## Consensus sequence\n",
    "\n",
    "# consensus_seq =''\n",
    "# print(res.values())\n",
    "# for i in range(len(list_of_strings)):\n",
    "#     if max(Profile_matrix[:,i]) == 0:\n",
    "#         break\n",
    "#     val_index = list(Profile_matrix[:,i]).index(max(Profile_matrix[:,i]))\n",
    "#     Nuc_index = list(res.values()).index(val_index)\n",
    "#     print(Nuc_index)\n",
    "#     Nuc = list(res.keys())[Nuc_index]\n",
    "#     consensus_seq = consensus_seq + Nuc\n",
    "\n",
    "# consensus_seq"
   ]
  }
 ],
 "metadata": {
  "kernelspec": {
   "display_name": "base",
   "language": "python",
   "name": "python3"
  },
  "language_info": {
   "codemirror_mode": {
    "name": "ipython",
    "version": 3
   },
   "file_extension": ".py",
   "mimetype": "text/x-python",
   "name": "python",
   "nbconvert_exporter": "python",
   "pygments_lexer": "ipython3",
   "version": "3.9.13"
  }
 },
 "nbformat": 4,
 "nbformat_minor": 2
}
